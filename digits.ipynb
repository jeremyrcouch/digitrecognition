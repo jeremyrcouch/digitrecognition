{
 "cells": [
  {
   "cell_type": "markdown",
   "metadata": {},
   "source": [
    "# Handwritten Digit Recognition With Deep Learning\n",
    "#### A classic image recognition problem.  Exploratory project - [repo here.](https://github.com/jeremyrcouch/digitrecognition)\n",
    "---\n",
    "The [MNIST](http://yann.lecun.com/exdb/mnist/) database is a collection of 70,000 handwritten digits (0 to 9).  The goal is to build a model capable of recognizing a digit given only the image information.  Deep learning is well suited to this task, so we're going to build a neural network to classify the digits."
   ]
  },
  {
   "cell_type": "code",
   "execution_count": 1,
   "metadata": {
    "scrolled": true
   },
   "outputs": [
    {
     "name": "stderr",
     "output_type": "stream",
     "text": [
      "Using TensorFlow backend.\n"
     ]
    }
   ],
   "source": [
    "import math\n",
    "from typing import List\n",
    "\n",
    "import numpy as np\n",
    "from matplotlib import pyplot as plt\n",
    "from mpl_toolkits.axes_grid1 import make_axes_locatable\n",
    "\n",
    "from keras import layers, backend\n",
    "from keras.datasets import mnist\n",
    "from keras.models import Model\n",
    "from keras.utils import np_utils\n",
    "from keras.callbacks import Callback, LearningRateScheduler, EarlyStopping"
   ]
  },
  {
   "cell_type": "code",
   "execution_count": 52,
   "metadata": {
    "scrolled": true
   },
   "outputs": [],
   "source": [
    "RANDOM_SEED = 17\n",
    "VAL_SET_RATIO = 0.125\n",
    "\n",
    "FONTSIZE = 20\n",
    "LINEWIDTH = 5\n",
    "MARKERSIZE = 12"
   ]
  },
  {
   "cell_type": "code",
   "execution_count": 293,
   "metadata": {
    "scrolled": true
   },
   "outputs": [],
   "source": [
    "np.random.seed(RANDOM_SEED)  # for repeatability\n",
    "backend.set_image_data_format('channels_first')"
   ]
  },
  {
   "cell_type": "code",
   "execution_count": 290,
   "metadata": {
    "scrolled": true
   },
   "outputs": [],
   "source": [
    "def reshape_input_data(data: np.ndarray) -> np.ndarray:\n",
    "    \"\"\"Reshape and scale input (image) data for use.\n",
    "    \n",
    "    Args:\n",
    "        data: numpy array, input data\n",
    "        \n",
    "    Returns:\n",
    "        _: numpy array, reshaped and scaled input data\n",
    "    \"\"\"\n",
    "    \n",
    "    return data.reshape(data.shape[0], 1, data.shape[1], data.shape[2])/255\n",
    "    \n",
    "    \n",
    "def split_val_set_from_train(X_train_in: np.ndarray, y_train_in: np.ndarray,\n",
    "                             val_ratio: float = 0.125):\n",
    "    \"\"\"Split a validation set out of the training set.\n",
    "\n",
    "    Args:\n",
    "        X_train_in: numpy array, training set images\n",
    "        y_train_in: numpy array, training set labels\n",
    "        val_ratio: float, ratio of training set to use as validation set\n",
    "\n",
    "    Returns:\n",
    "        (X_train, y_train), (X_val, y_val): numpy arrays of images and labels\n",
    "    \"\"\"\n",
    "    \n",
    "    val_size = int(val_ratio*X_train_in.shape[0])\n",
    "    X_val = X_train_in[-val_size:, ...]\n",
    "    y_val = y_train_in[-val_size:, ...]\n",
    "    X_train = X_train_in[:X_train_in.shape[0] - val_size, ...]\n",
    "    y_train = y_train_in[:y_train_in.shape[0] - val_size, ...]\n",
    "\n",
    "    return (X_train, y_train), (X_val, y_val)\n",
    "\n",
    "\n",
    "def visualize_fit(metrics):\n",
    "    \"\"\"Visualize fitting process.\"\"\"\n",
    "    \n",
    "    fig, (ax1, ax2) = plt.subplots(2, 1, sharex=True, figsize=(9, 9))\n",
    "    ax1.plot(metrics.acc, 'g', linewidth=LINEWIDTH,\n",
    "             markersize=MARKERSIZE, label='train')\n",
    "    ax1.plot(metrics.val_acc, 'b', linewidth=LINEWIDTH,\n",
    "             markersize=MARKERSIZE, label='val')\n",
    "    ax1.legend(fontsize=FONTSIZE-4)\n",
    "    ax1.grid()\n",
    "    ax1.set_ylabel('Accuracy', fontsize=FONTSIZE)\n",
    "    ax1.tick_params(labelsize=FONTSIZE-4)\n",
    "    ax2.plot(metrics.lr, 'r', linewidth=LINEWIDTH,\n",
    "             markersize=MARKERSIZE)\n",
    "    ax2.grid()\n",
    "    ax2.set_xlabel('Epoch', fontsize=FONTSIZE)\n",
    "    ax2.set_ylabel('Learning Rate', fontsize=FONTSIZE)\n",
    "    ax2.tick_params(labelsize=FONTSIZE-4)\n",
    "    fig.tight_layout()\n",
    "\n",
    "\n",
    "def lr_function(epoch: int) -> float:\n",
    "    \"\"\"Learning rate function.\n",
    "    \n",
    "    Args:\n",
    "        epoch: int, epoch number\n",
    "        \n",
    "    Returns:\n",
    "        _: float, learning rate\n",
    "    \"\"\"\n",
    "    \n",
    "    init = 0.001\n",
    "    drop = 0.5\n",
    "    epochs_drop = 5.0\n",
    "    \n",
    "    return init * math.pow(drop, math.floor((1 + epoch)/epochs_drop))\n",
    "\n",
    "\n",
    "class recordMetrics(Callback):\n",
    "    \"\"\"Class to record metrics during model training process.\"\"\"\n",
    "\n",
    "    def on_train_begin(self, logs={}):\n",
    "        self.lr = []\n",
    "        self.losses = []\n",
    "        self.acc = []\n",
    "        self.val_losses = []\n",
    "        self.val_acc = []\n",
    "\n",
    "    def on_epoch_end(self, batch, logs={}):\n",
    "        self.lr.append(self.model.optimizer.get_config()['lr'])\n",
    "        self.losses.append(logs.get('loss'))\n",
    "        self.acc.append(logs.get('acc'))\n",
    "        self.val_losses.append(logs.get('val_loss'))\n",
    "        self.val_acc.append(logs.get('val_acc'))\n",
    "\n",
    "\n",
    "def make_mosaic(imgs: np.ndarray, nrows: int, ncols: int, border: int = 1) -> np.ndarray:\n",
    "    \"\"\"Given a set of images with all the same shape, makes a mosaic.\n",
    "    \n",
    "    Args:\n",
    "        imgs: array of floats, image data\n",
    "        nrows: int, number of rows of mosaic\n",
    "        ncols: int, number of cols of mosaic\n",
    "        border: int, border pixels\n",
    "        \n",
    "    Returns:\n",
    "        mosaic: masked array, image mosaic\n",
    "    \"\"\"\n",
    "\n",
    "    nimgs = imgs.shape[0]\n",
    "    imshape = imgs.shape[1:]\n",
    "\n",
    "    mosaic = np.ma.masked_all((nrows * imshape[0] + (nrows - 1) * border,\n",
    "                               ncols * imshape[1] + (ncols - 1) * border),\n",
    "                              dtype=np.float32)\n",
    "\n",
    "    paddedh = imshape[0] + border\n",
    "    paddedw = imshape[1] + border\n",
    "    for i in range(nimgs):\n",
    "        row = int(np.floor(i / ncols))\n",
    "        col = i % ncols\n",
    "\n",
    "        mosaic[row*paddedh:row*paddedh + imshape[0],\n",
    "               col*paddedw:col*paddedw + imshape[1]] = imgs[i]\n",
    "\n",
    "    return mosaic\n",
    "\n",
    "\n",
    "def classification_heat_map(y_test: np.ndarray, y_pred: np.ndarray) -> np.ndarray:\n",
    "    \"\"\"Builds classification heat map.\n",
    "    \n",
    "    Args:\n",
    "        y_test: array of ints, true labels\n",
    "        y_pred: array of floats, predicted labels\n",
    "        \n",
    "    Returns:\n",
    "        heat: array of ints, true vs predicted counts\n",
    "    \"\"\"\n",
    "\n",
    "    cat_num = len(np.unique(y_test))\n",
    "    heat = np.zeros((cat_num, cat_num), dtype='int')\n",
    "    for test, pred in zip(y_test, y_pred):\n",
    "        heat[test, pred] += 1\n",
    "\n",
    "    return heat\n",
    "\n",
    "\n",
    "def plot_heat(zero_heat):\n",
    "    \"\"\"Plot heat map.\"\"\"\n",
    "\n",
    "    fig = plt.figure(figsize=(9, 9))\n",
    "    img = plt.imshow(zero_heat, cmap='viridis')\n",
    "    plt.xlabel('Predicted', fontsize=FONTSIZE)\n",
    "    plt.ylabel('True', fontsize=FONTSIZE)\n",
    "    plt.xticks([i for i in range(10)])\n",
    "    plt.yticks([i for i in range(10)])\n",
    "    plt.tick_params(axis='both', labelsize=FONTSIZE)\n",
    "    ax = plt.gca()\n",
    "    divider = make_axes_locatable(ax)\n",
    "    cax = divider.append_axes(\"right\", size=\"5%\", pad=0.1)\n",
    "    cbar = plt.colorbar(img, cax=cax)\n",
    "    cbar.ax.tick_params(labelsize=FONTSIZE-4)\n",
    "    cbar.ax.get_xaxis().labelpad = 7\n",
    "    cbar.ax.set_xlabel('Count', fontsize=FONTSIZE-4)\n",
    "    cbar.outline.set_visible(False)\n",
    "    fig.tight_layout()\n",
    "\n",
    "\n",
    "def plot_weights(weights):\n",
    "    \"\"\"Plot weights.\"\"\"\n",
    "\n",
    "    fig = plt.figure(figsize=(9, 9))\n",
    "    img = plt.imshow(weights, cmap='viridis')\n",
    "    plt.tick_params(axis='both', labelsize=FONTSIZE)\n",
    "    ax = fig.gca()\n",
    "    ax.axis('off')\n",
    "    fig.tight_layout()\n",
    "\n",
    "\n",
    "def plot_layer_outputs(model, layer, X_test: np.ndarray, test_ind: int):\n",
    "    \"\"\"Plot layer outputs.\n",
    "    \n",
    "    Args:\n",
    "        model: keras model\n",
    "        layer: keras layer\n",
    "        X_test: numpy array, test images\n",
    "        test_ind: int, input index\n",
    "        \n",
    "    Returns:\n",
    "        image of layer output\n",
    "    \"\"\"\n",
    "    \n",
    "    functor = backend.function([model.input] + [backend.learning_phase()], [layer.output])\n",
    "    X = X_test[test_ind, ...][np.newaxis, ...]\n",
    "    layer_result = np.squeeze(functor([X, 1])[0])\n",
    "\n",
    "    mosaic_dim = int(np.ceil(np.sqrt(layer_result.shape[0])))\n",
    "    mosaic = make_mosaic(layer_result, mosaic_dim, mosaic_dim)\n",
    "    plot_weights(mosaic)\n",
    "\n",
    "\n",
    "def plot_single_input(ax, X: np.ndarray, y: int, y_pred: int = None, cmap: str = 'gray_r'):\n",
    "    \"\"\"Plot single input image.\n",
    "    \n",
    "    Args:\n",
    "        ax: axis\n",
    "        X: numpy array, image\n",
    "        y: int, label\n",
    "        y_pred: int, predicted label\n",
    "        cmap: str, colormap to use\n",
    "        \n",
    "    Returns:\n",
    "        input image\n",
    "    \"\"\"\n",
    "    \n",
    "    plt.imshow(np.squeeze(X), cmap=cmap)\n",
    "    ax.get_xaxis().set_visible(False)\n",
    "    ax.get_yaxis().set_visible(False)\n",
    "    title = 'True {}'.format(y)\n",
    "    title += ', Predicted {}'.format(y_pred) if y_pred is not None else ''\n",
    "    plt.title(title, fontsize=FONTSIZE)\n",
    "    \n",
    "\n",
    "def plot_input_images(X: np.ndarray, y: np.ndarray, inds: List[int],\n",
    "                      y_pred: np.ndarray = None, cmap: str = 'gray_r'):\n",
    "    \"\"\"Plot input image(s).\n",
    "    \n",
    "    Args:\n",
    "        X: numpy array, input data\n",
    "        y: numpy array, label data\n",
    "        inds: list of int, indices to plot\n",
    "        y_pred: numpy array, predicted labels\n",
    "        cmap: str, color map to use\n",
    "        \n",
    "    Returns:\n",
    "        input images\n",
    "    \"\"\"\n",
    "    \n",
    "    ncols = min(3, len(inds))\n",
    "    nrows = np.ceil(len(inds)/ncols)\n",
    "    fig = plt.figure(figsize=(4*ncols, 4*nrows))\n",
    "    for i, ind in enumerate(inds):\n",
    "        ax = plt.subplot(nrows, ncols, i+1)\n",
    "        pred = y_pred[ind] if y_pred is not None else None\n",
    "        plot_single_input(ax, X[ind, ...], y[ind], pred, cmap)\n",
    "\n",
    "\n",
    "def get_worst_predictions(y_test: np.ndarray, y_pred: np.ndarray, num: int = 5) -> np.ndarray:\n",
    "    \"\"\"Get worst prediction indices.\n",
    "    \n",
    "    Args:\n",
    "        y_test: numpy array, test input data\n",
    "        y_pred: numpy array, test label data\n",
    "        num: int, number of indices to return\n",
    "    \n",
    "    Returns:\n",
    "        _: numpy array, worst indices by confidence\n",
    "    \"\"\"\n",
    "\n",
    "    pred_scores = np.array([(1-y_pred[i, y_test[i]]) for i in range(len(y_pred))])\n",
    "    return np.argsort(pred_scores)[-num:]"
   ]
  },
  {
   "cell_type": "code",
   "execution_count": 165,
   "metadata": {
    "scrolled": true
   },
   "outputs": [],
   "source": [
    "(X_train_raw, y_train_raw), (X_test_raw, y_test_raw) = mnist.load_data()\n",
    "X_train_prep = reshape_input_data(X_train_raw)\n",
    "X_test = reshape_input_data(X_test_raw)\n",
    "y_train_prep = np_utils.to_categorical(y_train_raw).astype(int)\n",
    "y_test = np_utils.to_categorical(y_test_raw).astype(int)\n",
    "(X_train, y_train), (X_val, y_val) = split_val_set_from_train(X_train_prep, y_train_prep, VAL_SET_RATIO)"
   ]
  },
  {
   "cell_type": "code",
   "execution_count": 264,
   "metadata": {},
   "outputs": [
    {
     "data": {
      "image/png": "[encoded data removed]",
      "text/plain": [
       "<Figure size 864x576 with 6 Axes>"
      ]
     },
     "metadata": {
      "needs_background": "light"
     },
     "output_type": "display_data"
    }
   ],
   "source": [
    "# look at a couple random digits from the training set\n",
    "rand_inds = list(np.random.randint(0, high=len(X_train), size=6))\n",
    "plot_input_images(X_train, np.array([np.argmax(y) for y in y_train]), rand_inds)"
   ]
  },
  {
   "cell_type": "markdown",
   "metadata": {},
   "source": [
    "Above are some examples of the handwritten digits.  For each, we have 28x28 pixels with one color channel (greyscale).  I separated the data into training, validation and test sets - taking a portion of the samples from the training set for the validation set to use for model architecture selection and parameter tuning.  The samples in the test set will be held out for final model evaluation.\n",
    "\n",
    "As this is just an exploratory project, I wanted to manually explore the model architecture space rather than use any sort of automated search.  I monitored the accuracy on my validation set while making changes."
   ]
  },
  {
   "cell_type": "code",
   "execution_count": 235,
   "metadata": {
    "scrolled": true
   },
   "outputs": [],
   "source": [
    "# model architecture\n",
    "DENSE_LAYERS = 1\n",
    "DENSE_NODES = 256  # generally keep between input and output sizes\n",
    "ACTIVATION = 'relu'\n",
    "CONV_LAYERS = 2\n",
    "FILTERS = 16\n",
    "PATCHES = 3\n",
    "\n",
    "img_dim = X_train.shape[-1]"
   ]
  },
  {
   "cell_type": "code",
   "execution_count": 248,
   "metadata": {
    "scrolled": false
   },
   "outputs": [],
   "source": [
    "inputs = layers.Input(shape=(1, img_dim, img_dim), name='inputs')\n",
    "\n",
    "# convolutional layers with max pooling after each\n",
    "for lay_i in range(CONV_LAYERS):\n",
    "    layer_in = inputs if lay_i == 0 else x\n",
    "    x = layers.Conv2D(FILTERS, (PATCHES, PATCHES), activation=ACTIVATION,\n",
    "                      data_format='channels_first', name='conv{}'.format(lay_i))(layer_in)\n",
    "    x = layers.MaxPooling2D(pool_size=(2, 2), name='pool{}'.format(lay_i))(x)\n",
    "\n",
    "# dropout if there was a convolutional layer before flatten for dense input\n",
    "if CONV_LAYERS > 0:\n",
    "    x = layers.Dropout(0.2, name='conv_dropout')(x)\n",
    "    x = layers.Flatten(name='flatten')(x)\n",
    "else:\n",
    "    x = layers.Flatten(name='flatten')(inputs)\n",
    "\n",
    "# dense layers with dropout after each\n",
    "for lay_i in range(DENSE_LAYERS):\n",
    "    dense = int(DENSE_NODES/(lay_i+1))\n",
    "    x = layers.Dense(dense, activation=ACTIVATION, name='dense{}'.format(lay_i))(x)\n",
    "    x = layers.Dropout(0.25, name='dense_dropout{}'.format(lay_i))(x)\n",
    "\n",
    "output = layers.Dense(10, activation='softmax', name='output')(x)\n",
    "\n",
    "model = Model(inputs=inputs, outputs=output)\n",
    "model.compile(optimizer='adam', loss='categorical_crossentropy', metrics=['accuracy'])"
   ]
  },
  {
   "cell_type": "markdown",
   "metadata": {},
   "source": [
    "I used Keras' functional API for this neural network because it provides a straightforward way to build up a model in a dynamic way.  First, let's take a look at the model I landed on."
   ]
  },
  {
   "cell_type": "code",
   "execution_count": 237,
   "metadata": {},
   "outputs": [
    {
     "name": "stdout",
     "output_type": "stream",
     "text": [
      "_________________________________________________________________\n",
      "Layer (type)                 Output Shape              Param #   \n",
      "=================================================================\n",
      "inputs (InputLayer)          (None, 1, 28, 28)         0         \n",
      "_________________________________________________________________\n",
      "conv0 (Conv2D)               (None, 16, 26, 26)        160       \n",
      "_________________________________________________________________\n",
      "pool0 (MaxPooling2D)         (None, 16, 13, 13)        0         \n",
      "_________________________________________________________________\n",
      "conv1 (Conv2D)               (None, 16, 11, 11)        2320      \n",
      "_________________________________________________________________\n",
      "pool1 (MaxPooling2D)         (None, 16, 5, 5)          0         \n",
      "_________________________________________________________________\n",
      "conv_dropout (Dropout)       (None, 16, 5, 5)          0         \n",
      "_________________________________________________________________\n",
      "flatten (Flatten)            (None, 400)               0         \n",
      "_________________________________________________________________\n",
      "dense0 (Dense)               (None, 256)               102656    \n",
      "_________________________________________________________________\n",
      "dense_dropout0 (Dropout)     (None, 256)               0         \n",
      "_________________________________________________________________\n",
      "output (Dense)               (None, 10)                2570      \n",
      "=================================================================\n",
      "Total params: 107,706\n",
      "Trainable params: 107,706\n",
      "Non-trainable params: 0\n",
      "_________________________________________________________________\n"
     ]
    }
   ],
   "source": [
    "model.summary()"
   ]
  },
  {
   "cell_type": "markdown",
   "metadata": {},
   "source": [
    "There's a total of 10 layers, summarized below:\n",
    "1. Input image\n",
    "2. First convolutional layer, detects low level shapes\n",
    "3. Max pooling layer down samples and provides invariance to translation, rotation and scale\n",
    "4. Second convolutional layer, detects higher level features\n",
    "5. Max pooling layer down samples and provides invariance to translation, rotation and scale\n",
    "6. Dropout layer mitigates overfitting\n",
    "7. Flatten layer gets the data in the right shape for dense layers\n",
    "8. Dense layer\n",
    "9. Dropout layer mitigates overfitting\n",
    "10. Output layer with softmax activation acts as a classifier\n",
    "\n",
    "Deciding on a model structure and tuning the parameters is an iterative process.  I set up an early stopping callback for both the training and validation data, so that if the accuracy of either one stalled it would stop the fit.  I also defined a simple step style learning rate scheduler that cuts the learning rate in half every couple epochs.  This helps the optimizer continue to improve the model's accuracy as the fitting process wears on.  I recorded the training and validation data losses and accuracy along with the learning rate every epoch, and at the end of the fit I plotted a simple visualization to see how training went.\n",
    "\n",
    "The main thing I was looking for after fitting the model is how well the validation set accuracy tracked the training set accuracy.  If the training accuracy is well above the validation accuracy, then we know we're likely overfitting."
   ]
  },
  {
   "cell_type": "code",
   "execution_count": 249,
   "metadata": {
    "scrolled": false
   },
   "outputs": [
    {
     "name": "stdout",
     "output_type": "stream",
     "text": [
      "Train on 52500 samples, validate on 7500 samples\n",
      "Epoch 1/20\n",
      "52500/52500 [==============================] - 55s 1ms/step - loss: 0.2220 - acc: 0.9319 - val_loss: 0.0596 - val_acc: 0.9827\n",
      "Epoch 2/20\n",
      "52500/52500 [==============================] - 49s 942us/step - loss: 0.0824 - acc: 0.9744 - val_loss: 0.0523 - val_acc: 0.9852\n",
      "Epoch 3/20\n",
      "52500/52500 [==============================] - 52s 984us/step - loss: 0.0620 - acc: 0.9804 - val_loss: 0.0418 - val_acc: 0.9883\n",
      "Epoch 4/20\n",
      "52500/52500 [==============================] - 50s 946us/step - loss: 0.0520 - acc: 0.9837 - val_loss: 0.0372 - val_acc: 0.9900\n",
      "Epoch 5/20\n",
      "52500/52500 [==============================] - 48s 910us/step - loss: 0.0368 - acc: 0.9886 - val_loss: 0.0337 - val_acc: 0.9896\n",
      "Epoch 6/20\n",
      "52500/52500 [==============================] - 48s 906us/step - loss: 0.0322 - acc: 0.9899 - val_loss: 0.0326 - val_acc: 0.9909\n",
      "Epoch 7/20\n",
      "52500/52500 [==============================] - 48s 915us/step - loss: 0.0291 - acc: 0.9909 - val_loss: 0.0329 - val_acc: 0.9913\n",
      "Epoch 8/20\n",
      "52500/52500 [==============================] - 47s 896us/step - loss: 0.0278 - acc: 0.9910 - val_loss: 0.0278 - val_acc: 0.9933\n",
      "Epoch 9/20\n",
      "52500/52500 [==============================] - 53s 1ms/step - loss: 0.0246 - acc: 0.9922 - val_loss: 0.0307 - val_acc: 0.9923\n",
      "Epoch 10/20\n",
      "52500/52500 [==============================] - 44s 847us/step - loss: 0.0210 - acc: 0.9931 - val_loss: 0.0292 - val_acc: 0.9927\n",
      "Epoch 11/20\n",
      "52500/52500 [==============================] - 43s 817us/step - loss: 0.0174 - acc: 0.9945 - val_loss: 0.0280 - val_acc: 0.9929\n"
     ]
    }
   ],
   "source": [
    "early_stop_train = EarlyStopping(monitor='acc', min_delta=0.001, patience=3,\n",
    "                                 verbose=0, mode='auto')\n",
    "early_stop_test = EarlyStopping(monitor='val_acc', min_delta=0.001, patience=3,\n",
    "                                verbose=0, mode='auto')\n",
    "lr_scheduler = LearningRateScheduler(lr_function)\n",
    "metrics = recordMetrics()\n",
    "\n",
    "EPOCHS = 20\n",
    "history = model.fit(X_train, y_train, epochs=EPOCHS, verbose=1,\n",
    "                    callbacks=[metrics, early_stop_train, early_stop_test, lr_scheduler],\n",
    "                    validation_data=(X_val, y_val))"
   ]
  },
  {
   "cell_type": "code",
   "execution_count": 251,
   "metadata": {
    "scrolled": false
   },
   "outputs": [
    {
     "data": {
      "image/png": "[encoded data removed]",
      "text/plain": [
       "<Figure size 648x648 with 2 Axes>"
      ]
     },
     "metadata": {
      "needs_background": "light"
     },
     "output_type": "display_data"
    }
   ],
   "source": [
    "visualize_fit(metrics)"
   ]
  },
  {
   "cell_type": "markdown",
   "metadata": {},
   "source": [
    "As you can see, it only took a couple epochs to get above 99% accuracy on both the training and validation sets.  By lowering the learning rate every so often, we're helping the model get incrementally better without bouncing around.  Importantly, the validation accuracy tracked with the training accuracy.  I'm happy with the final model here - 99.33% accuracy on the held out test set isn't too shabby.\n",
    "\n",
    "Let's take a closer look at the model's performance."
   ]
  },
  {
   "cell_type": "code",
   "execution_count": 252,
   "metadata": {},
   "outputs": [
    {
     "name": "stdout",
     "output_type": "stream",
     "text": [
      "10000/10000 [==============================] - 3s 333us/step\n",
      "Accuracy = 99.33%\n"
     ]
    }
   ],
   "source": [
    "y_pred = model.predict(X_test)\n",
    "y_pred_max = np.array([np.argmax(pred) for pred in y_pred])\n",
    "scores = model.evaluate(x=X_test, y=y_test)\n",
    "print('Accuracy = {:.2%}'.format(scores[1]))"
   ]
  },
  {
   "cell_type": "code",
   "execution_count": 288,
   "metadata": {
    "scrolled": false
   },
   "outputs": [
    {
     "data": {
      "image/png": "[encoded data removed]",
      "text/plain": [
       "<Figure size 648x648 with 2 Axes>"
      ]
     },
     "metadata": {
      "needs_background": "light"
     },
     "output_type": "display_data"
    }
   ],
   "source": [
    "heat = classification_heat_map(y_test_raw, y_pred_max)\n",
    "miss_heat = heat.copy()\n",
    "np.fill_diagonal(miss_heat, val=0)\n",
    "plot_heat(miss_heat)"
   ]
  },
  {
   "cell_type": "markdown",
   "metadata": {},
   "source": [
    "The y-axis of the heat map is the true digit and the x-axis is the predicted digit, with the color of the square corresponding to the number of samples for that pairing.  Clearly, there were quite a few instances where we thought `9`s were `4`s, `7`s were `2`s,  and `3`s were `5`s.  These mixups are not unexpected, so that's a good sign the model isn't confusing numbers with significantly different shapes.\n",
    "\n",
    "Let's look at the digits we predicted incorrectly **and** had a high confidence about."
   ]
  },
  {
   "cell_type": "code",
   "execution_count": 266,
   "metadata": {
    "scrolled": false
   },
   "outputs": [
    {
     "data": {
      "image/png": "[encoded data removed]",
      "text/plain": [
       "<Figure size 864x576 with 6 Axes>"
      ]
     },
     "metadata": {
      "needs_background": "light"
     },
     "output_type": "display_data"
    }
   ],
   "source": [
    "worst_inds = get_worst_predictions(y_test_raw, y_pred, num=6)\n",
    "plot_input_images(X_test, y_test_raw, list(worst_inds), y_pred_max, cmap='viridis')"
   ]
  },
  {
   "cell_type": "markdown",
   "metadata": {},
   "source": [
    "I mean.. some of these are pretty poorly written digits.  Others, like the lower row, middle column `6` does not look like a `5` like was predicted (even though it's a better `G` than a `6`).  Depending on the application, missing digits like these may or may not be acceptable.\n",
    "\n",
    "Time to take a closer look at what the model is doing."
   ]
  },
  {
   "cell_type": "code",
   "execution_count": 262,
   "metadata": {},
   "outputs": [],
   "source": [
    "test_ind = 0"
   ]
  },
  {
   "cell_type": "code",
   "execution_count": 284,
   "metadata": {},
   "outputs": [
    {
     "data": {
      "image/png": "[encoded data removed]",
      "text/plain": [
       "<Figure size 648x648 with 1 Axes>"
      ]
     },
     "metadata": {
      "needs_background": "light"
     },
     "output_type": "display_data"
    }
   ],
   "source": [
    "layer_info = {layer.name: layer for layer in model.layers}\n",
    "layer = layer_info['conv0']\n",
    "layer_weights = layer.get_weights()\n",
    "filter_weights = np.array([np.squeeze(layer_weights[0][..., i]) for i in range(FILTERS)])\n",
    "\n",
    "mosaic_dim = int(np.ceil(np.sqrt(filter_weights.shape[0])))\n",
    "weights_mosaic = make_mosaic(filter_weights, mosaic_dim, mosaic_dim)\n",
    "plot_weights(weights_mosaic)"
   ]
  },
  {
   "cell_type": "markdown",
   "metadata": {},
   "source": [
    "These are the weights of the filters for the first convolutional layer (I left out the axes and colorbar because only the relative values matter for right now).  See [this great article](http://colah.github.io/posts/2014-07-Understanding-Convolutions/) for an explanation of convolutions, but in simple terms, imagine each of these filters sliding over each spot on the image.  Where the filter and the image match up well, the output of the layer will \"light up.\"  Technically, \"light up\" is a garbage way to describe it, but you'll see why I said that coming up.  Next, we'll show a selected digit (the input to our model) and then the output of our convolutional layer."
   ]
  },
  {
   "cell_type": "code",
   "execution_count": 292,
   "metadata": {
    "scrolled": false
   },
   "outputs": [
    {
     "data": {
      "image/png": "[encoded data removed]",
      "text/plain": [
       "<Figure size 288x288 with 1 Axes>"
      ]
     },
     "metadata": {
      "needs_background": "light"
     },
     "output_type": "display_data"
    },
    {
     "data": {
      "image/png": "[encoded data removed]",
      "text/plain": [
       "<Figure size 648x648 with 1 Axes>"
      ]
     },
     "metadata": {
      "needs_background": "light"
     },
     "output_type": "display_data"
    }
   ],
   "source": [
    "# show test image and conv filter ouputs\n",
    "plot_input_images(X_test, y_test_raw, [test_ind], y_pred_max, cmap='viridis')\n",
    "plot_layer_outputs(model, layer, X_test, test_ind)"
   ]
  },
  {
   "cell_type": "markdown",
   "metadata": {},
   "source": [
    "The filters activate the input image in different ways.  Although each input image will activate the filters differently, *similar inputs will activate the same filters in similar locations*.  Although I am aware of the flaws of max pooling[^1], it is, for better or worse, effective for making the neural network invariant to image translation, scaling and orientation.\n",
    "\n",
    "The techniques used for this problem can be applied to a range of image recognition tasks.  Experimenting with model architectures is often necessary to get good results, but there are a variety of resources out there to suggest architectures that are well suited to certain problem types.\n",
    "\n",
    "[^1]: Geoffrey Hinton argues \"The pooling operation used in convolutional neural networks is a big mistake and the fact that it works so well is a disaster.\""
   ]
  }
 ],
 "metadata": {
  "kernelspec": {
   "display_name": "Python 3",
   "language": "python",
   "name": "python3"
  },
  "language_info": {
   "codemirror_mode": {
    "name": "ipython",
    "version": 3
   },
   "file_extension": ".py",
   "mimetype": "text/x-python",
   "name": "python",
   "nbconvert_exporter": "python",
   "pygments_lexer": "ipython3",
   "version": "3.7.6"
  }
 },
 "nbformat": 4,
 "nbformat_minor": 4
}
